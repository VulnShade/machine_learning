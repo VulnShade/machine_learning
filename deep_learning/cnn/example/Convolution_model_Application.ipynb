{
 "cells": [
  {
   "cell_type": "markdown",
   "metadata": {},
   "source": [
    "# Convolutional Neural Networks: Application\n",
    "\n",
    "Welcome to Course 4's second assignment! In this notebook, you will:\n",
    "\n",
    "- Create a mood classifer using the TF Keras Sequential API\n",
    "- Build a ConvNet to identify sign language digits using the TF Keras Functional API\n",
    "\n",
    "**After this assignment you will be able to:**\n",
    "\n",
    "- Build and train a ConvNet in TensorFlow for a __binary__ classification problem\n",
    "- Build and train a ConvNet in TensorFlow for a __multiclass__ classification problem\n",
    "- Explain different use cases for the Sequential and Functional APIs\n",
    "\n",
    "To complete this assignment, you should already be familiar with TensorFlow. If you are not, please refer back to the **TensorFlow Tutorial** of the third week of Course 2 (\"**Improving deep neural networks**\").\n",
    "\n",
    "## Important Note on Submission to the AutoGrader\n",
    "\n",
    "Before submitting your assignment to the AutoGrader, please make sure you are not doing the following:\n",
    "\n",
    "1. You have not added any _extra_ `print` statement(s) in the assignment.\n",
    "2. You have not added any _extra_ code cell(s) in the assignment.\n",
    "3. You have not changed any of the function parameters.\n",
    "4. You are not using any global variables inside your graded exercises. Unless specifically instructed to do so, please refrain from it and use the local variables instead.\n",
    "5. You are not changing the assignment code where it is not required, like creating _extra_ variables.\n",
    "\n",
    "If you do any of the following, you will get something like, `Grader Error: Grader feedback not found` (or similarly unexpected) error upon submitting your assignment. Before asking for help/debugging the errors in your assignment, check for these first. If this is the case, and you don't remember the changes you have made, you can get a fresh copy of the assignment by following these [instructions](https://www.coursera.org/learn/convolutional-neural-networks/supplement/DS4yP/h-ow-to-refresh-your-workspace)."
   ]
  },
  {
   "cell_type": "markdown",
   "metadata": {},
   "source": [
    "## Table of Contents\n",
    "\n",
    "- [1 - Packages](#1)\n",
    "    - [1.1 - Load the Data and Split the Data into Train/Test Sets](#1-1)\n",
    "- [2 - Layers in TF Keras](#2)\n",
    "- [3 - The Sequential API](#3)\n",
    "    - [3.1 - Create the Sequential Model](#3-1)\n",
    "        - [Exercise 1 - happyModel](#ex-1)\n",
    "    - [3.2 - Train and Evaluate the Model](#3-2)\n",
    "- [4 - The Functional API](#4)\n",
    "    - [4.1 - Load the SIGNS Dataset](#4-1)\n",
    "    - [4.2 - Split the Data into Train/Test Sets](#4-2)\n",
    "    - [4.3 - Forward Propagation](#4-3)\n",
    "        - [Exercise 2 - convolutional_model](#ex-2)\n",
    "    - [4.4 - Train the Model](#4-4)\n",
    "- [5 - History Object](#5)\n",
    "- [6 - Bibliography](#6)"
   ]
  },
  {
   "cell_type": "markdown",
   "metadata": {},
   "source": [
    "<a name='1'></a>\n",
    "## 1 - Packages\n",
    "\n",
    "As usual, begin by loading in the packages."
   ]
  },
  {
   "cell_type": "code",
   "execution_count": null,
   "metadata": {
    "deletable": false,
    "editable": false
   },
   "outputs": [],
   "source": [
    "### v1.1"
   ]
  },
  {
   "cell_type": "code",
   "execution_count": 14,
   "metadata": {},
   "outputs": [],
   "source": [
    "import math\n",
    "import numpy as np\n",
    "import h5py\n",
    "import matplotlib.pyplot as plt\n",
    "from matplotlib.pyplot import imread\n",
    "import scipy\n",
    "from PIL import Image\n",
    "import pandas as pd\n",
    "import tensorflow as tf\n",
    "import tensorflow.keras.layers as tfl\n",
    "from tensorflow.python.framework import ops\n",
    "from cnn_utils import *\n",
    "from test_utils import summary, comparator\n",
    "\n",
    "%matplotlib inline\n",
    "np.random.seed(1)"
   ]
  },
  {
   "cell_type": "markdown",
   "metadata": {},
   "source": [
    "<a name='1-1'></a>\n",
    "### 1.1 - Load the Data and Split the Data into Train/Test Sets\n",
    "\n",
    "You'll be using the Happy House dataset for this part of the assignment, which contains images of peoples' faces. Your task will be to build a ConvNet that determines whether the people in the images are smiling or not -- because they only get to enter the house if they're smiling!  "
   ]
  },
  {
   "cell_type": "code",
   "execution_count": 15,
   "metadata": {},
   "outputs": [
    {
     "name": "stdout",
     "output_type": "stream",
     "text": [
      "number of training examples = 600\n",
      "number of test examples = 150\n",
      "X_train shape: (600, 64, 64, 3)\n",
      "Y_train shape: (600, 1)\n",
      "X_test shape: (150, 64, 64, 3)\n",
      "Y_test shape: (150, 1)\n"
     ]
    }
   ],
   "source": [
    "X_train_orig, Y_train_orig, X_test_orig, Y_test_orig, classes = load_happy_dataset()\n",
    "\n",
    "# Normalize image vectors\n",
    "X_train = X_train_orig/255.\n",
    "X_test = X_test_orig/255.\n",
    "\n",
    "# Reshape\n",
    "Y_train = Y_train_orig.T\n",
    "Y_test = Y_test_orig.T\n",
    "\n",
    "print (\"number of training examples = \" + str(X_train.shape[0]))\n",
    "print (\"number of test examples = \" + str(X_test.shape[0]))\n",
    "print (\"X_train shape: \" + str(X_train.shape))\n",
    "print (\"Y_train shape: \" + str(Y_train.shape))\n",
    "print (\"X_test shape: \" + str(X_test.shape))\n",
    "print (\"Y_test shape: \" + str(Y_test.shape))"
   ]
  },
  {
   "cell_type": "markdown",
   "metadata": {},
   "source": [
    "You can display the images contained in the dataset. Images are **64x64** pixels in RGB format (3 channels)."
   ]
  },
  {
   "cell_type": "code",
   "execution_count": 23,
   "metadata": {},
   "outputs": [
    {
     "data": {
      "image/png": "[encoded data removed]",
      "text/plain": [
       "<Figure size 432x288 with 1 Axes>"
      ]
     },
     "metadata": {
      "needs_background": "light"
     },
     "output_type": "display_data"
    },
    {
     "name": "stdout",
     "output_type": "stream",
     "text": [
      "1\n"
     ]
    }
   ],
   "source": [
    "index = 126\n",
    "plt.imshow(X_train_orig[index]) #display sample training image\n",
    "plt.show()\n",
    "print(Y_train_orig[0][index])"
   ]
  },
  {
   "cell_type": "markdown",
   "metadata": {},
   "source": [
    "<a name='2'></a>\n",
    "## 2 - Layers in TF Keras \n",
    "\n",
    "In the previous assignment, you created layers manually in numpy. In TF Keras, you don't have to write code directly to create layers. Rather, TF Keras has pre-defined layers you can use. \n",
    "\n",
    "When you create a layer in TF Keras, you are creating a function that takes some input and transforms it into an output you can reuse later. Nice and easy! "
   ]
  },
  {
   "cell_type": "markdown",
   "metadata": {},
   "source": [
    "<a name='3'></a>\n",
    "## 3 - The Sequential API\n",
    "\n",
    "In the previous assignment, you built helper functions using `numpy` to understand the mechanics behind convolutional neural networks. Most practical applications of deep learning today are built using programming frameworks, which have many built-in functions you can simply call. Keras is a high-level abstraction built on top of TensorFlow, which allows for even more simplified and optimized model creation and training. \n",
    "\n",
    "For the first part of this assignment, you'll create a model using TF Keras' Sequential API, which allows you to build layer by layer, and is ideal for building models where each layer has **exactly one** input tensor and **one** output tensor. \n",
    "\n",
    "As you'll see, using the Sequential API is simple and straightforward, but is only appropriate for simpler, more straightforward tasks. Later in this notebook you'll spend some time building with a more flexible, powerful alternative: the Functional API. \n",
    " "
   ]
  },
  {
   "cell_type": "markdown",
   "metadata": {},
   "source": [
    "<a name='3-1'></a>\n",
    "### 3.1 - Create the Sequential Model\n",
    "\n",
    "As mentioned earlier, the TensorFlow Keras Sequential API can be used to build simple models with layer operations that proceed in a sequential order. \n",
    "\n",
    "You can also add layers incrementally to a Sequential model with the `.add()` method, or remove them using the `.pop()` method, much like you would in a regular Python list.\n",
    "\n",
    "Actually, you can think of a Sequential model as behaving like a list of layers. Like Python lists, Sequential layers are ordered, and the order in which they are specified matters.  If your model is non-linear or contains layers with multiple inputs or outputs, a Sequential model wouldn't be the right choice!\n",
    "\n",
    "For any layer construction in Keras, you'll need to specify the input shape in advance. This is because in Keras, the shape of the weights is based on the shape of the inputs. The weights are only created when the model first sees some input data. Sequential models can be created by passing a list of layers to the Sequential constructor, like you will do in the next assignment.\n",
    "\n",
    "<a name='ex-1'></a>\n",
    "### Exercise 1 - happyModel\n",
    "\n",
    "Implement the `happyModel` function below to build the following model: `ZEROPAD2D -> CONV2D -> BATCHNORM -> RELU -> MAXPOOL -> FLATTEN -> DENSE`. Take help from [tf.keras.layers](https://www.tensorflow.org/api_docs/python/tf/keras/layers) \n",
    "\n",
    "Also, plug in the following parameters for all the steps:\n",
    "\n",
    " - [ZeroPadding2D](https://www.tensorflow.org/api_docs/python/tf/keras/layers/ZeroPadding2D): padding 3, input shape 64 x 64 x 3\n",
    " - [Conv2D](https://www.tensorflow.org/api_docs/python/tf/keras/layers/Conv2D): Use 32 7x7 filters, stride 1\n",
    " - [BatchNormalization](https://www.tensorflow.org/api_docs/python/tf/keras/layers/BatchNormalization): for axis 3\n",
    " - [ReLU](https://www.tensorflow.org/api_docs/python/tf/keras/layers/ReLU)\n",
    " - [MaxPool2D](https://www.tensorflow.org/api_docs/python/tf/keras/layers/MaxPool2D): Using default parameters\n",
    " - [Flatten](https://www.tensorflow.org/api_docs/python/tf/keras/layers/Flatten) the previous output.\n",
    " - Fully-connected ([Dense](https://www.tensorflow.org/api_docs/python/tf/keras/layers/Dense)) layer: Apply a fully connected layer with 1 neuron and a sigmoid activation. \n",
    " \n",
    " \n",
    " **Hint:**\n",
    " \n",
    " Use **tfl** as shorthand for **tensorflow.keras.layers**"
   ]
  },
  {
   "cell_type": "code",
   "execution_count": 4,
   "metadata": {
    "deletable": false,
    "nbgrader": {
     "cell_type": "code",
     "checksum": "95d28b191f257bdd5b70c7b8952559d5",
     "grade": false,
     "grade_id": "cell-0e56d3fc28b69aec",
     "locked": false,
     "schema_version": 3,
     "solution": true,
     "task": false
    }
   },
   "outputs": [],
   "source": [
    "# GRADED FUNCTION: happyModel\n",
    "\n",
    "def happyModel():\n",
    "    \"\"\"\n",
    "    Implements the forward propagation for the binary classification model:\n",
    "    ZEROPAD2D -> CONV2D -> BATCHNORM -> RELU -> MAXPOOL -> FLATTEN -> DENSE\n",
    "    \n",
    "    Note that for simplicity and grading purposes, you'll hard-code all the values\n",
    "    such as the stride and kernel (filter) sizes. \n",
    "    Normally, functions should take these values as function parameters.\n",
    "    \n",
    "    Arguments:\n",
    "    None\n",
    "\n",
    "    Returns:\n",
    "    model -- TF Keras model (object containing the information for the entire training process) \n",
    "    \"\"\"\n",
    "    model = tf.keras.Sequential([\n",
    "        tf.keras.Input(shape=(64,64,3)),\n",
    "        ## ZeroPadding2D with padding 3, input shape of 64 x 64 x 3\n",
    "        tf.keras.layers.ZeroPadding2D(3),\n",
    "            \n",
    "        ## Conv2D with 32 7x7 filters and stride of 1\n",
    "        tf.keras.layers.Conv2D(32, 7, strides=(1, 1)),\n",
    "            \n",
    "        ## BatchNormalization for axis 3\n",
    "        tf.keras.layers.BatchNormalization(3),   \n",
    "        \n",
    "        ## ReLU\n",
    "        tf.keras.layers.ReLU(),\n",
    "            \n",
    "        ## Max Pooling 2D with default parameters\n",
    "        tf.keras.layers.MaxPool2D(),\n",
    "            \n",
    "        ## Flatten layer\n",
    "        tf.keras.layers.Flatten(),\n",
    "        \n",
    "        ## Dense layer with 1 unit for output & 'sigmoid' activation\n",
    "        tf.keras.layers.Dense(1, activation='sigmoid')\n",
    "\n",
    "        ])\n",
    "    \n",
    "    return model"
   ]
  },
  {
   "cell_type": "code",
   "execution_count": 5,
   "metadata": {
    "deletable": false,
    "editable": false,
    "nbgrader": {
     "cell_type": "code",
     "checksum": "8d3575c950e2e78149be2d05d671c80d",
     "grade": true,
     "grade_id": "cell-e3e1046e5c33d775",
     "locked": true,
     "points": 10,
     "schema_version": 3,
     "solution": false,
     "task": false
    }
   },
   "outputs": [
    {
     "name": "stdout",
     "output_type": "stream",
     "text": [
      "['ZeroPadding2D', (None, 70, 70, 3), 0, ((3, 3), (3, 3))]\n",
      "['Conv2D', (None, 64, 64, 32), 4736, 'valid', 'linear', 'GlorotUniform']\n",
      "['BatchNormalization', (None, 64, 64, 32), 128]\n",
      "['ReLU', (None, 64, 64, 32), 0]\n",
      "['MaxPooling2D', (None, 32, 32, 32), 0, (2, 2), (2, 2), 'valid']\n",
      "['Flatten', (None, 32768), 0]\n",
      "['Dense', (None, 1), 32769, 'sigmoid']\n",
      "\u001b[32mAll tests passed!\u001b[0m\n"
     ]
    }
   ],
   "source": [
    "happy_model = happyModel()\n",
    "# Print a summary for each layer\n",
    "for layer in summary(happy_model):\n",
    "    print(layer)\n",
    "    \n",
    "output = [['ZeroPadding2D', (None, 70, 70, 3), 0, ((3, 3), (3, 3))],\n",
    "            ['Conv2D', (None, 64, 64, 32), 4736, 'valid', 'linear', 'GlorotUniform'],\n",
    "            ['BatchNormalization', (None, 64, 64, 32), 128],\n",
    "            ['ReLU', (None, 64, 64, 32), 0],\n",
    "            ['MaxPooling2D', (None, 32, 32, 32), 0, (2, 2), (2, 2), 'valid'],\n",
    "            ['Flatten', (None, 32768), 0],\n",
    "            ['Dense', (None, 1), 32769, 'sigmoid']]\n",
    "    \n",
    "comparator(summary(happy_model), output)"
   ]
  },
  {
   "cell_type": "markdown",
   "metadata": {},
   "source": [
    "#### Expected Output:\n",
    "\n",
    "```\n",
    "['ZeroPadding2D', (None, 70, 70, 3), 0, ((3, 3), (3, 3))]\n",
    "['Conv2D', (None, 64, 64, 32), 4736, 'valid', 'linear', 'GlorotUniform']\n",
    "['BatchNormalization', (None, 64, 64, 32), 128]\n",
    "['ReLU', (None, 64, 64, 32), 0]\n",
    "['MaxPooling2D', (None, 32, 32, 32), 0, (2, 2), (2, 2), 'valid']\n",
    "['Flatten', (None, 32768), 0]\n",
    "['Dense', (None, 1), 32769, 'sigmoid']\n",
    "All tests passed!\n",
    "```"
   ]
  },
  {
   "cell_type": "markdown",
   "metadata": {},
   "source": [
    "Now that your model is created, you can compile it for training with an optimizer and loss of your choice. When the string `accuracy` is specified as a metric, the type of accuracy used will be automatically converted based on the loss function used. This is one of the many optimizations built into TensorFlow that make your life easier! If you'd like to read more on how the compiler operates, check the docs [here](https://www.tensorflow.org/api_docs/python/tf/keras/Model#compile)."
   ]
  },
  {
   "cell_type": "code",
   "execution_count": 6,
   "metadata": {},
   "outputs": [],
   "source": [
    "happy_model.compile(optimizer='adam',\n",
    "                   loss='binary_crossentropy',\n",
    "                   metrics=['accuracy'])"
   ]
  },
  {
   "cell_type": "markdown",
   "metadata": {},
   "source": [
    "It's time to check your model's parameters with the `.summary()` method. This will display the types of layers you have, the shape of the outputs, and how many parameters are in each layer. "
   ]
  },
  {
   "cell_type": "code",
   "execution_count": 7,
   "metadata": {},
   "outputs": [
    {
     "name": "stdout",
     "output_type": "stream",
     "text": [
      "Model: \"sequential\"\n",
      "_________________________________________________________________\n",
      "Layer (type)                 Output Shape              Param #   \n",
      "=================================================================\n",
      "zero_padding2d (ZeroPadding2 (None, 70, 70, 3)         0         \n",
      "_________________________________________________________________\n",
      "conv2d (Conv2D)              (None, 64, 64, 32)        4736      \n",
      "_________________________________________________________________\n",
      "batch_normalization (BatchNo (None, 64, 64, 32)        128       \n",
      "_________________________________________________________________\n",
      "re_lu (ReLU)                 (None, 64, 64, 32)        0         \n",
      "_________________________________________________________________\n",
      "max_pooling2d (MaxPooling2D) (None, 32, 32, 32)        0         \n",
      "_________________________________________________________________\n",
      "flatten (Flatten)            (None, 32768)             0         \n",
      "_________________________________________________________________\n",
      "dense (Dense)                (None, 1)                 32769     \n",
      "=================================================================\n",
      "Total params: 37,633\n",
      "Trainable params: 37,569\n",
      "Non-trainable params: 64\n",
      "_________________________________________________________________\n"
     ]
    }
   ],
   "source": [
    "happy_model.summary()"
   ]
  },
  {
   "cell_type": "markdown",
   "metadata": {},
   "source": [
    "<a name='3-2'></a>\n",
    "### 3.2 - Train and Evaluate the Model\n",
    "\n",
    "After creating the model, compiling it with your choice of optimizer and loss function, and doing a sanity check on its contents, you are now ready to build! \n",
    "\n",
    "Simply call `.fit()` to train. That's it! No need for mini-batching, saving, or complex backpropagation computations. That's all been done for you, as you're using a TensorFlow dataset with the batches specified already. You do have the option to specify epoch number or minibatch size if you like (for example, in the case of an un-batched dataset)."
   ]
  },
  {
   "cell_type": "code",
   "execution_count": 8,
   "metadata": {},
   "outputs": [
    {
     "name": "stdout",
     "output_type": "stream",
     "text": [
      "Epoch 1/10\n",
      "38/38 [==============================] - 4s 102ms/step - loss: 0.7534 - accuracy: 0.7800\n",
      "Epoch 2/10\n",
      "38/38 [==============================] - 4s 95ms/step - loss: 0.2206 - accuracy: 0.9083\n",
      "Epoch 3/10\n",
      "38/38 [==============================] - 4s 97ms/step - loss: 0.2213 - accuracy: 0.9167\n",
      "Epoch 4/10\n",
      "38/38 [==============================] - 4s 97ms/step - loss: 0.1147 - accuracy: 0.9617\n",
      "Epoch 5/10\n",
      "38/38 [==============================] - 4s 95ms/step - loss: 0.0772 - accuracy: 0.9750\n",
      "Epoch 6/10\n",
      "38/38 [==============================] - 4s 95ms/step - loss: 0.0767 - accuracy: 0.9783\n",
      "Epoch 7/10\n",
      "38/38 [==============================] - 4s 97ms/step - loss: 0.0764 - accuracy: 0.9833\n",
      "Epoch 8/10\n",
      "38/38 [==============================] - 4s 95ms/step - loss: 0.1169 - accuracy: 0.9617\n",
      "Epoch 9/10\n",
      "38/38 [==============================] - 4s 95ms/step - loss: 0.0455 - accuracy: 0.9767\n",
      "Epoch 10/10\n",
      "38/38 [==============================] - 4s 95ms/step - loss: 0.0708 - accuracy: 0.9750\n"
     ]
    },
    {
     "data": {
      "text/plain": [
       "<tensorflow.python.keras.callbacks.History at 0x78755b1fe4d0>"
      ]
     },
     "execution_count": 8,
     "metadata": {},
     "output_type": "execute_result"
    }
   ],
   "source": [
    "happy_model.fit(X_train, Y_train, epochs=10, batch_size=16)"
   ]
  },
  {
   "cell_type": "markdown",
   "metadata": {},
   "source": [
    "After that completes, just use `.evaluate()` to evaluate against your test set. This function will print the value of the loss function and the performance metrics specified during the compilation of the model. In this case, the `binary_crossentropy` and the `accuracy` respectively."
   ]
  },
  {
   "cell_type": "code",
   "execution_count": 9,
   "metadata": {},
   "outputs": [
    {
     "name": "stdout",
     "output_type": "stream",
     "text": [
      "5/5 [==============================] - 0s 23ms/step - loss: 0.1212 - accuracy: 0.9467\n"
     ]
    },
    {
     "data": {
      "text/plain": [
       "[0.12118751555681229, 0.9466666579246521]"
      ]
     },
     "execution_count": 9,
     "metadata": {},
     "output_type": "execute_result"
    }
   ],
   "source": [
    "happy_model.evaluate(X_test, Y_test)"
   ]
  },
  {
   "cell_type": "markdown",
   "metadata": {},
   "source": [
    "Easy, right? But what if you need to build a model with shared layers, branches, or multiple inputs and outputs? This is where Sequential, with its beautifully simple yet limited functionality, won't be able to help you. \n",
    "\n",
    "Next up: Enter the Functional API, your slightly more complex, highly flexible friend.  "
   ]
  },
  {
   "cell_type": "markdown",
   "metadata": {},
   "source": [
    "<a name='4'></a>\n",
    "## 4 - The Functional API"
   ]
  },
  {
   "cell_type": "markdown",
   "metadata": {},
   "source": [
    "Welcome to the second half of the assignment, where you'll use Keras' flexible [Functional API](https://www.tensorflow.org/guide/keras/functional) to build a ConvNet that can differentiate between 6 sign language digits. \n",
    "\n",
    "The Functional API can handle models with non-linear topology, shared layers, as well as layers with multiple inputs or outputs. Imagine that, where the Sequential API requires the model to move in a linear fashion through its layers, the Functional API allows much more flexibility. Where Sequential is a straight line, a Functional model is a graph, where the nodes of the layers can connect in many more ways than one. \n",
    "\n",
    "In the visual example below, the one possible direction of the movement Sequential model is shown in contrast to a skip connection, which is just one of the many ways a Functional model can be constructed. A skip connection, as you might have guessed, skips some layer in the network and feeds the output to a later layer in the network. Don't worry, you'll be spending more time with skip connections very soon! "
   ]
  },
  {
   "cell_type": "markdown",
   "metadata": {},
   "source": [
    "<img src=\"images/seq_vs_func.png\" style=\"width:350px;height:200px;\">"
   ]
  },
  {
   "cell_type": "markdown",
   "metadata": {},
   "source": [
    "<a name='4-1'></a>\n",
    "### 4.1 - Load the SIGNS Dataset\n",
    "\n",
    "As a reminder, the SIGNS dataset is a collection of 6 signs representing numbers from 0 to 5."
   ]
  },
  {
   "cell_type": "code",
   "execution_count": 24,
   "metadata": {},
   "outputs": [],
   "source": [
    "# Loading the data (signs)\n",
    "X_train_orig, Y_train_orig, X_test_orig, Y_test_orig, classes = load_signs_dataset()"
   ]
  },
  {
   "cell_type": "markdown",
   "metadata": {},
   "source": [
    "<img src=\"images/SIGNS.png\" style=\"width:800px;height:300px;\">\n",
    "\n",
    "The next cell will show you an example of a labelled image in the dataset. Feel free to change the value of `index` below and re-run to see different examples. "
   ]
  },
  {
   "cell_type": "code",
   "execution_count": 25,
   "metadata": {},
   "outputs": [
    {
     "name": "stdout",
     "output_type": "stream",
     "text": [
      "y = 4\n"
     ]
    },
    {
     "data": {
      "image/png": "[encoded data removed]",
      "text/plain": [
       "<Figure size 432x288 with 1 Axes>"
      ]
     },
     "metadata": {
      "needs_background": "light"
     },
     "output_type": "display_data"
    }
   ],
   "source": [
    "# Example of an image from the dataset\n",
    "index = 9\n",
    "plt.imshow(X_train_orig[index])\n",
    "print (\"y = \" + str(np.squeeze(Y_train_orig[:, index])))"
   ]
  },
  {
   "cell_type": "markdown",
   "metadata": {},
   "source": [
    "<a name='4-2'></a>\n",
    "### 4.2 - Split the Data into Train/Test Sets\n",
    "\n",
    "In Course 2, you built a fully-connected network for this dataset. But since this is an image dataset, it is more natural to apply a ConvNet to it.\n",
    "\n",
    "To get started, let's examine the shapes of your data. "
   ]
  },
  {
   "cell_type": "code",
   "execution_count": 26,
   "metadata": {},
   "outputs": [
    {
     "name": "stdout",
     "output_type": "stream",
     "text": [
      "number of training examples = 1080\n",
      "number of test examples = 120\n",
      "X_train shape: (1080, 64, 64, 3)\n",
      "Y_train shape: (1080, 6)\n",
      "X_test shape: (120, 64, 64, 3)\n",
      "Y_test shape: (120, 6)\n"
     ]
    }
   ],
   "source": [
    "X_train = X_train_orig/255.\n",
    "X_test = X_test_orig/255.\n",
    "Y_train = convert_to_one_hot(Y_train_orig, 6).T\n",
    "Y_test = convert_to_one_hot(Y_test_orig, 6).T\n",
    "print (\"number of training examples = \" + str(X_train.shape[0]))\n",
    "print (\"number of test examples = \" + str(X_test.shape[0]))\n",
    "print (\"X_train shape: \" + str(X_train.shape))\n",
    "print (\"Y_train shape: \" + str(Y_train.shape))\n",
    "print (\"X_test shape: \" + str(X_test.shape))\n",
    "print (\"Y_test shape: \" + str(Y_test.shape))"
   ]
  },
  {
   "cell_type": "markdown",
   "metadata": {},
   "source": [
    "<a name='4-3'></a>\n",
    "### 4.3 - Forward Propagation\n",
    "\n",
    "In TensorFlow, there are built-in functions that implement the convolution steps for you. By now, you should be familiar with how TensorFlow builds computational graphs. In the [Functional API](https://www.tensorflow.org/guide/keras/functional), you create a graph of layers. This is what allows such great flexibility.\n",
    "\n",
    "However, the following model could also be defined using the Sequential API since the information flow is on a single line. But don't deviate. What we want you to learn is to use the functional API.\n",
    "\n",
    "Begin building your graph of layers by creating an input node that functions as a callable object:\n",
    "\n",
    "- **input_img = tf.keras.Input(shape=input_shape):** \n",
    "\n",
    "Then, create a new node in the graph of layers by calling a layer on the `input_img` object: \n",
    "\n",
    "- **tf.keras.layers.Conv2D(filters= ... , kernel_size= ... , padding='same')(input_img):** Read the full documentation on [Conv2D](https://www.tensorflow.org/api_docs/python/tf/keras/layers/Conv2D).\n",
    "\n",
    "- **tf.keras.layers.MaxPool2D(pool_size=(f, f), strides=(s, s), padding='same'):** `MaxPool2D()` downsamples your input using a window of size (f, f) and strides of size (s, s) to carry out max pooling over each window.  For max pooling, you usually operate on a single example at a time and a single channel at a time. Read the full documentation on [MaxPool2D](https://www.tensorflow.org/api_docs/python/tf/keras/layers/MaxPool2D).\n",
    "\n",
    "- **tf.keras.layers.ReLU():** computes the elementwise ReLU of Z (which can be any shape). You can read the full documentation on [ReLU](https://www.tensorflow.org/api_docs/python/tf/keras/layers/ReLU).\n",
    "\n",
    "- **tf.keras.layers.Flatten()**: given a tensor \"P\", this function takes each training (or test) example in the batch and flattens it into a 1D vector.  \n",
    "\n",
    "    * If a tensor P has the shape (batch_size,h,w,c), it returns a flattened tensor with shape (batch_size, k), where $k=h \\times w \\times c$.  \"k\" equals the product of all the dimension sizes other than the first dimension.\n",
    "    \n",
    "    * For example, given a tensor with dimensions [100, 2, 3, 4], it flattens the tensor to be of shape [100, 24], where 24 = 2 * 3 * 4.  You can read the full documentation on [Flatten](https://www.tensorflow.org/api_docs/python/tf/keras/layers/Flatten).\n",
    "\n",
    "- **tf.keras.layers.Dense(units= ... , activation='softmax')(F):** given the flattened input F, it returns the output computed using a fully connected layer. You can read the full documentation on [Dense](https://www.tensorflow.org/api_docs/python/tf/keras/layers/Dense).\n",
    "\n",
    "In the last function above (`tf.keras.layers.Dense()`), the fully connected layer automatically initializes weights in the graph and keeps on training them as you train the model. Hence, you did not need to initialize those weights when initializing the parameters.\n",
    "\n",
    "Lastly, before creating the model, you'll need to define the output using the last of the function's compositions (in this example, a Dense layer): \n",
    "\n",
    "- **outputs = tf.keras.layers.Dense(units=6, activation='softmax')(F)**\n",
    "\n",
    "\n",
    "#### Window, kernel, filter, pool\n",
    "\n",
    "The words \"kernel\" and \"filter\" are used to refer to the same thing. The word \"filter\" accounts for the amount of \"kernels\" that will be used in a single convolution layer. \"Pool\" is the name of the operation that takes the max or average value of the kernels. \n",
    "\n",
    "This is why the parameter `pool_size` refers to `kernel_size`, and you use `(f,f)` to refer to the filter size. \n",
    "\n",
    "Pool size and kernel size refer to the same thing in different objects - They refer to the shape of the window where the operation takes place. "
   ]
  },
  {
   "cell_type": "markdown",
   "metadata": {},
   "source": [
    "<a name='ex-2'></a>\n",
    "### Exercise 2 - convolutional_model\n",
    "\n",
    "Implement the `convolutional_model` function below to build the following model: `CONV2D -> RELU -> MAXPOOL -> CONV2D -> RELU -> MAXPOOL -> FLATTEN -> DENSE`. Use the functions above! \n",
    "\n",
    "Also, plug in the following parameters for all the steps:\n",
    "\n",
    " - [Conv2D](https://www.tensorflow.org/api_docs/python/tf/keras/layers/Conv2D): Use 8 4 by 4 filters, stride 1, padding is \"SAME\"\n",
    " - [ReLU](https://www.tensorflow.org/api_docs/python/tf/keras/layers/ReLU)\n",
    " - [MaxPool2D](https://www.tensorflow.org/api_docs/python/tf/keras/layers/MaxPool2D): Use an 8 by 8 filter size and an 8 by 8 stride, padding is \"SAME\"\n",
    " - **Conv2D**: Use 16 2 by 2 filters, stride 1, padding is \"SAME\"\n",
    " - **ReLU**\n",
    " - **MaxPool2D**: Use a 4 by 4 filter size and a 4 by 4 stride, padding is \"SAME\"\n",
    " - [Flatten](https://www.tensorflow.org/api_docs/python/tf/keras/layers/Flatten) the previous output.\n",
    " - Fully-connected ([Dense](https://www.tensorflow.org/api_docs/python/tf/keras/layers/Dense)) layer: Apply a fully connected layer with 6 neurons and a softmax activation. "
   ]
  },
  {
   "cell_type": "code",
   "execution_count": 41,
   "metadata": {
    "deletable": false,
    "nbgrader": {
     "cell_type": "code",
     "checksum": "f58643806aa8380c96225fc8b4c5e7aa",
     "grade": false,
     "grade_id": "cell-dac51744a9e03f51",
     "locked": false,
     "schema_version": 3,
     "solution": true,
     "task": false
    }
   },
   "outputs": [],
   "source": [
    "# GRADED FUNCTION: convolutional_model\n",
    "\n",
    "def convolutional_model(input_shape):\n",
    "    \"\"\"\n",
    "    Implements the forward propagation for the model:\n",
    "    CONV2D -> RELU -> MAXPOOL -> CONV2D -> RELU -> MAXPOOL -> FLATTEN -> DENSE\n",
    "    \n",
    "    Note that for simplicity and grading purposes, you'll hard-code some values\n",
    "    such as the stride and kernel (filter) sizes. \n",
    "    Normally, functions should take these values as function parameters.\n",
    "    \n",
    "    Arguments:\n",
    "    input_img -- input dataset, of shape (input_shape)\n",
    "\n",
    "    Returns:\n",
    "    model -- TF Keras model (object containing the information for the entire training process) \n",
    "    \"\"\"\n",
    "\n",
    "    input_img = tf.keras.Input(shape=input_shape)\n",
    "    ## CONV2D: 8 filters 4x4, stride of 1, padding 'SAME'\n",
    "    Z1 = tf.keras.layers.Conv2D(8, (4, 4), strides=(1, 1), padding='same')(input_img)\n",
    "    ## RELU\n",
    "    A1 = tf.keras.layers.ReLU()(Z1)\n",
    "    ## MAXPOOL: window 8x8, stride 8, padding 'SAME'\n",
    "    P1 = tf.keras.layers.MaxPool2D(pool_size=(8, 8), strides=(8), padding='same')(A1)\n",
    "    ## CONV2D: 16 filters 2x2, stride 1, padding 'SAME'\n",
    "    Z2 = tf.keras.layers.Conv2D(16, (2,2),strides=(1,1), padding='same')(P1)\n",
    "    ## RELU\n",
    "    A2 = tf.keras.layers.ReLU()(Z2)\n",
    "    ## MAXPOOL: window 4x4, stride 4, padding 'SAME'\n",
    "    P2 = tf.keras.layers.MaxPool2D(pool_size=(4, 4), strides=(4, 4), padding='same')(A2)\n",
    "    ## FLATTEN\n",
    "    F = tf.keras.layers.Flatten()(P2)\n",
    "    ## Dense layer\n",
    "    ## 6 neurons in output layer. Hint: one of the arguments should be \"activation='softmax'\" \n",
    "    outputs = tf.keras.layers.Dense(units=6, activation='softmax')(F)\n",
    "\n",
    "    model = tf.keras.Model(inputs=input_img, outputs=outputs)\n",
    "    return model"
   ]
  },
  {
   "cell_type": "code",
   "execution_count": 42,
   "metadata": {
    "deletable": false,
    "editable": false,
    "nbgrader": {
     "cell_type": "code",
     "checksum": "483d626949930a0b0ef20997e7c6ba72",
     "grade": true,
     "grade_id": "cell-45d22e92042174c9",
     "locked": true,
     "points": 10,
     "schema_version": 3,
     "solution": false,
     "task": false
    }
   },
   "outputs": [
    {
     "name": "stdout",
     "output_type": "stream",
     "text": [
      "Model: \"functional_9\"\n",
      "_________________________________________________________________\n",
      "Layer (type)                 Output Shape              Param #   \n",
      "=================================================================\n",
      "input_9 (InputLayer)         [(None, 64, 64, 3)]       0         \n",
      "_________________________________________________________________\n",
      "conv2d_14 (Conv2D)           (None, 64, 64, 8)         392       \n",
      "_________________________________________________________________\n",
      "re_lu_14 (ReLU)              (None, 64, 64, 8)         0         \n",
      "_________________________________________________________________\n",
      "max_pooling2d_12 (MaxPooling (None, 8, 8, 8)           0         \n",
      "_________________________________________________________________\n",
      "conv2d_15 (Conv2D)           (None, 8, 8, 16)          528       \n",
      "_________________________________________________________________\n",
      "re_lu_15 (ReLU)              (None, 8, 8, 16)          0         \n",
      "_________________________________________________________________\n",
      "max_pooling2d_13 (MaxPooling (None, 2, 2, 16)          0         \n",
      "_________________________________________________________________\n",
      "flatten_6 (Flatten)          (None, 64)                0         \n",
      "_________________________________________________________________\n",
      "dense_5 (Dense)              (None, 6)                 390       \n",
      "=================================================================\n",
      "Total params: 1,310\n",
      "Trainable params: 1,310\n",
      "Non-trainable params: 0\n",
      "_________________________________________________________________\n",
      "\u001b[32mAll tests passed!\u001b[0m\n"
     ]
    }
   ],
   "source": [
    "conv_model = convolutional_model((64, 64, 3))\n",
    "conv_model.compile(optimizer='adam',\n",
    "                  loss='categorical_crossentropy',\n",
    "                  metrics=['accuracy'])\n",
    "conv_model.summary()\n",
    "    \n",
    "output = [['InputLayer', [(None, 64, 64, 3)], 0],\n",
    "        ['Conv2D', (None, 64, 64, 8), 392, 'same', 'linear', 'GlorotUniform'],\n",
    "        ['ReLU', (None, 64, 64, 8), 0],\n",
    "        ['MaxPooling2D', (None, 8, 8, 8), 0, (8, 8), (8, 8), 'same'],\n",
    "        ['Conv2D', (None, 8, 8, 16), 528, 'same', 'linear', 'GlorotUniform'],\n",
    "        ['ReLU', (None, 8, 8, 16), 0],\n",
    "        ['MaxPooling2D', (None, 2, 2, 16), 0, (4, 4), (4, 4), 'same'],\n",
    "        ['Flatten', (None, 64), 0],\n",
    "        ['Dense', (None, 6), 390, 'softmax']]\n",
    "    \n",
    "comparator(summary(conv_model), output)"
   ]
  },
  {
   "cell_type": "markdown",
   "metadata": {},
   "source": [
    "Both the Sequential and Functional APIs return a TF Keras model object. The only difference is how inputs are handled inside the object model! "
   ]
  },
  {
   "cell_type": "markdown",
   "metadata": {},
   "source": [
    "<a name='4-4'></a>\n",
    "### 4.4 - Train the Model"
   ]
  },
  {
   "cell_type": "code",
   "execution_count": 43,
   "metadata": {},
   "outputs": [
    {
     "name": "stdout",
     "output_type": "stream",
     "text": [
      "Epoch 1/100\n",
      "17/17 [==============================] - 2s 107ms/step - loss: 1.8281 - accuracy: 0.1667 - val_loss: 1.7960 - val_accuracy: 0.1667\n",
      "Epoch 2/100\n",
      "17/17 [==============================] - 2s 106ms/step - loss: 1.7922 - accuracy: 0.1731 - val_loss: 1.7883 - val_accuracy: 0.1833\n",
      "Epoch 3/100\n",
      "17/17 [==============================] - 2s 106ms/step - loss: 1.7874 - accuracy: 0.2046 - val_loss: 1.7833 - val_accuracy: 0.2500\n",
      "Epoch 4/100\n",
      "17/17 [==============================] - 2s 106ms/step - loss: 1.7839 - accuracy: 0.2472 - val_loss: 1.7795 - val_accuracy: 0.3667\n",
      "Epoch 5/100\n",
      "17/17 [==============================] - 2s 106ms/step - loss: 1.7779 - accuracy: 0.3120 - val_loss: 1.7738 - val_accuracy: 0.4083\n",
      "Epoch 6/100\n",
      "17/17 [==============================] - 2s 106ms/step - loss: 1.7712 - accuracy: 0.3537 - val_loss: 1.7664 - val_accuracy: 0.3667\n",
      "Epoch 7/100\n",
      "17/17 [==============================] - 2s 106ms/step - loss: 1.7620 - accuracy: 0.3639 - val_loss: 1.7577 - val_accuracy: 0.3917\n",
      "Epoch 8/100\n",
      "17/17 [==============================] - 2s 106ms/step - loss: 1.7510 - accuracy: 0.3806 - val_loss: 1.7461 - val_accuracy: 0.3917\n",
      "Epoch 9/100\n",
      "17/17 [==============================] - 2s 107ms/step - loss: 1.7370 - accuracy: 0.3991 - val_loss: 1.7309 - val_accuracy: 0.4167\n",
      "Epoch 10/100\n",
      "17/17 [==============================] - 2s 106ms/step - loss: 1.7192 - accuracy: 0.4111 - val_loss: 1.7127 - val_accuracy: 0.4167\n",
      "Epoch 11/100\n",
      "17/17 [==============================] - 2s 106ms/step - loss: 1.6965 - accuracy: 0.4370 - val_loss: 1.6875 - val_accuracy: 0.4417\n",
      "Epoch 12/100\n",
      "17/17 [==============================] - 2s 106ms/step - loss: 1.6672 - accuracy: 0.4639 - val_loss: 1.6532 - val_accuracy: 0.4583\n",
      "Epoch 13/100\n",
      "17/17 [==============================] - 2s 106ms/step - loss: 1.6327 - accuracy: 0.4769 - val_loss: 1.6153 - val_accuracy: 0.5250\n",
      "Epoch 14/100\n",
      "17/17 [==============================] - 2s 111ms/step - loss: 1.5931 - accuracy: 0.4991 - val_loss: 1.5708 - val_accuracy: 0.5083\n",
      "Epoch 15/100\n",
      "17/17 [==============================] - 2s 107ms/step - loss: 1.5485 - accuracy: 0.5269 - val_loss: 1.5265 - val_accuracy: 0.5333\n",
      "Epoch 16/100\n",
      "17/17 [==============================] - 2s 107ms/step - loss: 1.5036 - accuracy: 0.5509 - val_loss: 1.4772 - val_accuracy: 0.5417\n",
      "Epoch 17/100\n",
      "17/17 [==============================] - 2s 107ms/step - loss: 1.4575 - accuracy: 0.5722 - val_loss: 1.4287 - val_accuracy: 0.5667\n",
      "Epoch 18/100\n",
      "17/17 [==============================] - 2s 107ms/step - loss: 1.4096 - accuracy: 0.5824 - val_loss: 1.3731 - val_accuracy: 0.6333\n",
      "Epoch 19/100\n",
      "17/17 [==============================] - 2s 106ms/step - loss: 1.3547 - accuracy: 0.5944 - val_loss: 1.3135 - val_accuracy: 0.6167\n",
      "Epoch 20/100\n",
      "17/17 [==============================] - 2s 107ms/step - loss: 1.3054 - accuracy: 0.6111 - val_loss: 1.2602 - val_accuracy: 0.6250\n",
      "Epoch 21/100\n",
      "17/17 [==============================] - 2s 106ms/step - loss: 1.2597 - accuracy: 0.6185 - val_loss: 1.2142 - val_accuracy: 0.6583\n",
      "Epoch 22/100\n",
      "17/17 [==============================] - 2s 106ms/step - loss: 1.2168 - accuracy: 0.6370 - val_loss: 1.1731 - val_accuracy: 0.6250\n",
      "Epoch 23/100\n",
      "17/17 [==============================] - 2s 106ms/step - loss: 1.1722 - accuracy: 0.6454 - val_loss: 1.1321 - val_accuracy: 0.6333\n",
      "Epoch 24/100\n",
      "17/17 [==============================] - 2s 111ms/step - loss: 1.1275 - accuracy: 0.6565 - val_loss: 1.0911 - val_accuracy: 0.6750\n",
      "Epoch 25/100\n",
      "17/17 [==============================] - 2s 111ms/step - loss: 1.0901 - accuracy: 0.6704 - val_loss: 1.0542 - val_accuracy: 0.6917\n",
      "Epoch 26/100\n",
      "17/17 [==============================] - 2s 111ms/step - loss: 1.0595 - accuracy: 0.6741 - val_loss: 1.0227 - val_accuracy: 0.6833\n",
      "Epoch 27/100\n",
      "17/17 [==============================] - 2s 111ms/step - loss: 1.0250 - accuracy: 0.6778 - val_loss: 0.9922 - val_accuracy: 0.6833\n",
      "Epoch 28/100\n",
      "17/17 [==============================] - 2s 111ms/step - loss: 0.9918 - accuracy: 0.6898 - val_loss: 0.9626 - val_accuracy: 0.6917\n",
      "Epoch 29/100\n",
      "17/17 [==============================] - 2s 106ms/step - loss: 0.9616 - accuracy: 0.6972 - val_loss: 0.9333 - val_accuracy: 0.7250\n",
      "Epoch 30/100\n",
      "17/17 [==============================] - 2s 106ms/step - loss: 0.9355 - accuracy: 0.6981 - val_loss: 0.9096 - val_accuracy: 0.7333\n",
      "Epoch 31/100\n",
      "17/17 [==============================] - 2s 106ms/step - loss: 0.9090 - accuracy: 0.7130 - val_loss: 0.8883 - val_accuracy: 0.7250\n",
      "Epoch 32/100\n",
      "17/17 [==============================] - 2s 106ms/step - loss: 0.8834 - accuracy: 0.7167 - val_loss: 0.8655 - val_accuracy: 0.7667\n",
      "Epoch 33/100\n",
      "17/17 [==============================] - 2s 106ms/step - loss: 0.8608 - accuracy: 0.7222 - val_loss: 0.8467 - val_accuracy: 0.7667\n",
      "Epoch 34/100\n",
      "17/17 [==============================] - 2s 106ms/step - loss: 0.8399 - accuracy: 0.7278 - val_loss: 0.8265 - val_accuracy: 0.7750\n",
      "Epoch 35/100\n",
      "17/17 [==============================] - 2s 106ms/step - loss: 0.8216 - accuracy: 0.7269 - val_loss: 0.8120 - val_accuracy: 0.7833\n",
      "Epoch 36/100\n",
      "17/17 [==============================] - 2s 111ms/step - loss: 0.8026 - accuracy: 0.7324 - val_loss: 0.7942 - val_accuracy: 0.7833\n",
      "Epoch 37/100\n",
      "17/17 [==============================] - 2s 107ms/step - loss: 0.7844 - accuracy: 0.7472 - val_loss: 0.7796 - val_accuracy: 0.7833\n",
      "Epoch 38/100\n",
      "17/17 [==============================] - 2s 111ms/step - loss: 0.7669 - accuracy: 0.7528 - val_loss: 0.7662 - val_accuracy: 0.7750\n",
      "Epoch 39/100\n",
      "17/17 [==============================] - 2s 106ms/step - loss: 0.7518 - accuracy: 0.7583 - val_loss: 0.7547 - val_accuracy: 0.7917\n",
      "Epoch 40/100\n",
      "17/17 [==============================] - 2s 107ms/step - loss: 0.7350 - accuracy: 0.7657 - val_loss: 0.7442 - val_accuracy: 0.7833\n",
      "Epoch 41/100\n",
      "17/17 [==============================] - 2s 106ms/step - loss: 0.7187 - accuracy: 0.7694 - val_loss: 0.7328 - val_accuracy: 0.7833\n",
      "Epoch 42/100\n",
      "17/17 [==============================] - 2s 106ms/step - loss: 0.7050 - accuracy: 0.7750 - val_loss: 0.7219 - val_accuracy: 0.7750\n",
      "Epoch 43/100\n",
      "17/17 [==============================] - 2s 106ms/step - loss: 0.6932 - accuracy: 0.7778 - val_loss: 0.7132 - val_accuracy: 0.7833\n",
      "Epoch 44/100\n",
      "17/17 [==============================] - 2s 106ms/step - loss: 0.6811 - accuracy: 0.7833 - val_loss: 0.7045 - val_accuracy: 0.7833\n",
      "Epoch 45/100\n",
      "17/17 [==============================] - 2s 111ms/step - loss: 0.6683 - accuracy: 0.7852 - val_loss: 0.6963 - val_accuracy: 0.7833\n",
      "Epoch 46/100\n",
      "17/17 [==============================] - 2s 107ms/step - loss: 0.6559 - accuracy: 0.7926 - val_loss: 0.6884 - val_accuracy: 0.7917\n",
      "Epoch 47/100\n",
      "17/17 [==============================] - 2s 106ms/step - loss: 0.6440 - accuracy: 0.7954 - val_loss: 0.6807 - val_accuracy: 0.8000\n",
      "Epoch 48/100\n",
      "17/17 [==============================] - 2s 106ms/step - loss: 0.6323 - accuracy: 0.8019 - val_loss: 0.6737 - val_accuracy: 0.8083\n",
      "Epoch 49/100\n",
      "17/17 [==============================] - 2s 106ms/step - loss: 0.6211 - accuracy: 0.8093 - val_loss: 0.6676 - val_accuracy: 0.8167\n",
      "Epoch 50/100\n",
      "17/17 [==============================] - 2s 106ms/step - loss: 0.6102 - accuracy: 0.8074 - val_loss: 0.6619 - val_accuracy: 0.8167\n",
      "Epoch 51/100\n",
      "17/17 [==============================] - 2s 106ms/step - loss: 0.5996 - accuracy: 0.8065 - val_loss: 0.6558 - val_accuracy: 0.8167\n",
      "Epoch 52/100\n",
      "17/17 [==============================] - 2s 106ms/step - loss: 0.5898 - accuracy: 0.8102 - val_loss: 0.6497 - val_accuracy: 0.8083\n",
      "Epoch 53/100\n",
      "17/17 [==============================] - 2s 106ms/step - loss: 0.5805 - accuracy: 0.8120 - val_loss: 0.6430 - val_accuracy: 0.8167\n",
      "Epoch 54/100\n",
      "17/17 [==============================] - 2s 106ms/step - loss: 0.5706 - accuracy: 0.8194 - val_loss: 0.6384 - val_accuracy: 0.8083\n",
      "Epoch 55/100\n",
      "17/17 [==============================] - 2s 106ms/step - loss: 0.5623 - accuracy: 0.8204 - val_loss: 0.6325 - val_accuracy: 0.8167\n",
      "Epoch 56/100\n",
      "17/17 [==============================] - 2s 106ms/step - loss: 0.5534 - accuracy: 0.8250 - val_loss: 0.6277 - val_accuracy: 0.8083\n",
      "Epoch 57/100\n",
      "17/17 [==============================] - 2s 111ms/step - loss: 0.5452 - accuracy: 0.8296 - val_loss: 0.6230 - val_accuracy: 0.8250\n"
     ]
    },
    {
     "name": "stdout",
     "output_type": "stream",
     "text": [
      "Epoch 58/100\n",
      "17/17 [==============================] - 2s 106ms/step - loss: 0.5373 - accuracy: 0.8343 - val_loss: 0.6182 - val_accuracy: 0.8167\n",
      "Epoch 59/100\n",
      "17/17 [==============================] - 2s 107ms/step - loss: 0.5295 - accuracy: 0.8380 - val_loss: 0.6143 - val_accuracy: 0.8167\n",
      "Epoch 60/100\n",
      "17/17 [==============================] - 2s 112ms/step - loss: 0.5219 - accuracy: 0.8435 - val_loss: 0.6102 - val_accuracy: 0.8250\n",
      "Epoch 61/100\n",
      "17/17 [==============================] - 2s 106ms/step - loss: 0.5146 - accuracy: 0.8481 - val_loss: 0.6052 - val_accuracy: 0.8167\n",
      "Epoch 62/100\n",
      "17/17 [==============================] - 2s 106ms/step - loss: 0.5074 - accuracy: 0.8481 - val_loss: 0.6020 - val_accuracy: 0.8167\n",
      "Epoch 63/100\n",
      "17/17 [==============================] - 2s 111ms/step - loss: 0.5008 - accuracy: 0.8546 - val_loss: 0.5973 - val_accuracy: 0.8250\n",
      "Epoch 64/100\n",
      "17/17 [==============================] - 2s 106ms/step - loss: 0.4940 - accuracy: 0.8565 - val_loss: 0.5940 - val_accuracy: 0.8167\n",
      "Epoch 65/100\n",
      "17/17 [==============================] - 2s 106ms/step - loss: 0.4876 - accuracy: 0.8583 - val_loss: 0.5917 - val_accuracy: 0.8167\n",
      "Epoch 66/100\n",
      "17/17 [==============================] - 2s 106ms/step - loss: 0.4817 - accuracy: 0.8630 - val_loss: 0.5881 - val_accuracy: 0.8083\n",
      "Epoch 67/100\n",
      "17/17 [==============================] - 2s 102ms/step - loss: 0.4756 - accuracy: 0.8657 - val_loss: 0.5843 - val_accuracy: 0.8000\n",
      "Epoch 68/100\n",
      "17/17 [==============================] - 2s 106ms/step - loss: 0.4697 - accuracy: 0.8667 - val_loss: 0.5819 - val_accuracy: 0.8000\n",
      "Epoch 69/100\n",
      "17/17 [==============================] - 2s 106ms/step - loss: 0.4640 - accuracy: 0.8676 - val_loss: 0.5784 - val_accuracy: 0.8000\n",
      "Epoch 70/100\n",
      "17/17 [==============================] - 2s 106ms/step - loss: 0.4583 - accuracy: 0.8722 - val_loss: 0.5768 - val_accuracy: 0.8000\n",
      "Epoch 71/100\n",
      "17/17 [==============================] - 2s 112ms/step - loss: 0.4533 - accuracy: 0.8731 - val_loss: 0.5741 - val_accuracy: 0.8083\n",
      "Epoch 72/100\n",
      "17/17 [==============================] - 2s 106ms/step - loss: 0.4484 - accuracy: 0.8731 - val_loss: 0.5694 - val_accuracy: 0.8000\n",
      "Epoch 73/100\n",
      "17/17 [==============================] - 2s 106ms/step - loss: 0.4428 - accuracy: 0.8731 - val_loss: 0.5672 - val_accuracy: 0.8083\n",
      "Epoch 74/100\n",
      "17/17 [==============================] - 2s 106ms/step - loss: 0.4378 - accuracy: 0.8759 - val_loss: 0.5643 - val_accuracy: 0.8083\n",
      "Epoch 75/100\n",
      "17/17 [==============================] - 2s 106ms/step - loss: 0.4328 - accuracy: 0.8787 - val_loss: 0.5631 - val_accuracy: 0.8083\n",
      "Epoch 76/100\n",
      "17/17 [==============================] - 2s 106ms/step - loss: 0.4282 - accuracy: 0.8796 - val_loss: 0.5597 - val_accuracy: 0.8083\n",
      "Epoch 77/100\n",
      "17/17 [==============================] - 2s 106ms/step - loss: 0.4234 - accuracy: 0.8815 - val_loss: 0.5583 - val_accuracy: 0.8083\n",
      "Epoch 78/100\n",
      "17/17 [==============================] - 2s 102ms/step - loss: 0.4191 - accuracy: 0.8824 - val_loss: 0.5545 - val_accuracy: 0.8167\n",
      "Epoch 79/100\n",
      "17/17 [==============================] - 2s 107ms/step - loss: 0.4146 - accuracy: 0.8843 - val_loss: 0.5525 - val_accuracy: 0.8167\n",
      "Epoch 80/100\n",
      "17/17 [==============================] - 2s 106ms/step - loss: 0.4102 - accuracy: 0.8852 - val_loss: 0.5500 - val_accuracy: 0.8167\n",
      "Epoch 81/100\n",
      "17/17 [==============================] - 2s 106ms/step - loss: 0.4059 - accuracy: 0.8880 - val_loss: 0.5475 - val_accuracy: 0.8083\n",
      "Epoch 82/100\n",
      "17/17 [==============================] - 2s 106ms/step - loss: 0.4019 - accuracy: 0.8889 - val_loss: 0.5460 - val_accuracy: 0.8083\n",
      "Epoch 83/100\n",
      "17/17 [==============================] - 2s 106ms/step - loss: 0.3979 - accuracy: 0.8889 - val_loss: 0.5434 - val_accuracy: 0.8083\n",
      "Epoch 84/100\n",
      "17/17 [==============================] - 2s 106ms/step - loss: 0.3938 - accuracy: 0.8898 - val_loss: 0.5428 - val_accuracy: 0.8083\n",
      "Epoch 85/100\n",
      "17/17 [==============================] - 2s 106ms/step - loss: 0.3905 - accuracy: 0.8917 - val_loss: 0.5392 - val_accuracy: 0.8167\n",
      "Epoch 86/100\n",
      "17/17 [==============================] - 2s 106ms/step - loss: 0.3863 - accuracy: 0.8926 - val_loss: 0.5401 - val_accuracy: 0.8083\n",
      "Epoch 87/100\n",
      "17/17 [==============================] - 2s 111ms/step - loss: 0.3832 - accuracy: 0.8926 - val_loss: 0.5359 - val_accuracy: 0.8083\n",
      "Epoch 88/100\n",
      "17/17 [==============================] - 2s 106ms/step - loss: 0.3793 - accuracy: 0.8954 - val_loss: 0.5364 - val_accuracy: 0.8167\n",
      "Epoch 89/100\n",
      "17/17 [==============================] - 2s 106ms/step - loss: 0.3764 - accuracy: 0.8954 - val_loss: 0.5328 - val_accuracy: 0.8083\n",
      "Epoch 90/100\n",
      "17/17 [==============================] - 2s 111ms/step - loss: 0.3725 - accuracy: 0.8944 - val_loss: 0.5333 - val_accuracy: 0.8167\n",
      "Epoch 91/100\n",
      "17/17 [==============================] - 2s 106ms/step - loss: 0.3697 - accuracy: 0.8963 - val_loss: 0.5308 - val_accuracy: 0.8083\n",
      "Epoch 92/100\n",
      "17/17 [==============================] - 2s 107ms/step - loss: 0.3662 - accuracy: 0.8963 - val_loss: 0.5300 - val_accuracy: 0.8167\n",
      "Epoch 93/100\n",
      "17/17 [==============================] - 2s 106ms/step - loss: 0.3634 - accuracy: 0.8972 - val_loss: 0.5280 - val_accuracy: 0.8083\n",
      "Epoch 94/100\n",
      "17/17 [==============================] - 2s 106ms/step - loss: 0.3604 - accuracy: 0.8972 - val_loss: 0.5276 - val_accuracy: 0.8167\n",
      "Epoch 95/100\n",
      "17/17 [==============================] - 2s 111ms/step - loss: 0.3575 - accuracy: 0.8981 - val_loss: 0.5250 - val_accuracy: 0.8167\n",
      "Epoch 96/100\n",
      "17/17 [==============================] - 2s 112ms/step - loss: 0.3540 - accuracy: 0.9000 - val_loss: 0.5252 - val_accuracy: 0.8167\n",
      "Epoch 97/100\n",
      "17/17 [==============================] - 2s 106ms/step - loss: 0.3513 - accuracy: 0.8981 - val_loss: 0.5229 - val_accuracy: 0.8167\n",
      "Epoch 98/100\n",
      "17/17 [==============================] - 2s 107ms/step - loss: 0.3483 - accuracy: 0.9000 - val_loss: 0.5217 - val_accuracy: 0.8167\n",
      "Epoch 99/100\n",
      "17/17 [==============================] - 2s 106ms/step - loss: 0.3455 - accuracy: 0.9009 - val_loss: 0.5209 - val_accuracy: 0.8167\n",
      "Epoch 100/100\n",
      "17/17 [==============================] - 2s 106ms/step - loss: 0.3426 - accuracy: 0.9037 - val_loss: 0.5187 - val_accuracy: 0.8167\n"
     ]
    }
   ],
   "source": [
    "train_dataset = tf.data.Dataset.from_tensor_slices((X_train, Y_train)).batch(64)\n",
    "test_dataset = tf.data.Dataset.from_tensor_slices((X_test, Y_test)).batch(64)\n",
    "history = conv_model.fit(train_dataset, epochs=100, validation_data=test_dataset)"
   ]
  },
  {
   "cell_type": "markdown",
   "metadata": {},
   "source": [
    "<a name='5'></a>\n",
    "## 5 - History Object \n",
    "\n",
    "The history object is an output of the `.fit()` operation, and provides a record of all the loss and metric values in memory. It's stored as a dictionary that you can retrieve at `history.history`: "
   ]
  },
  {
   "cell_type": "code",
   "execution_count": 44,
   "metadata": {},
   "outputs": [
    {
     "data": {
      "text/plain": [
       "{'loss': [1.828053593635559,\n",
       "  1.7922085523605347,\n",
       "  1.787376046180725,\n",
       "  1.7839237451553345,\n",
       "  1.7778571844100952,\n",
       "  1.7712112665176392,\n",
       "  1.7620184421539307,\n",
       "  1.7509831190109253,\n",
       "  1.7369810342788696,\n",
       "  1.719248652458191,\n",
       "  1.6965266466140747,\n",
       "  1.6671922206878662,\n",
       "  1.6326720714569092,\n",
       "  1.5930614471435547,\n",
       "  1.5484929084777832,\n",
       "  1.5036407709121704,\n",
       "  1.4575315713882446,\n",
       "  1.409600853919983,\n",
       "  1.3547413349151611,\n",
       "  1.3053871393203735,\n",
       "  1.2596687078475952,\n",
       "  1.2168196439743042,\n",
       "  1.1721725463867188,\n",
       "  1.1274586915969849,\n",
       "  1.090061068534851,\n",
       "  1.0594851970672607,\n",
       "  1.0250195264816284,\n",
       "  0.9918168783187866,\n",
       "  0.9615767002105713,\n",
       "  0.935468316078186,\n",
       "  0.9089792966842651,\n",
       "  0.8834060430526733,\n",
       "  0.8608363270759583,\n",
       "  0.8399398922920227,\n",
       "  0.8215779662132263,\n",
       "  0.8026236891746521,\n",
       "  0.7843647003173828,\n",
       "  0.7669357061386108,\n",
       "  0.7517611384391785,\n",
       "  0.734987199306488,\n",
       "  0.7187368869781494,\n",
       "  0.7049631476402283,\n",
       "  0.693235456943512,\n",
       "  0.6811081767082214,\n",
       "  0.6683158278465271,\n",
       "  0.6558924317359924,\n",
       "  0.6439735889434814,\n",
       "  0.6323012113571167,\n",
       "  0.6211254000663757,\n",
       "  0.6101692914962769,\n",
       "  0.5996330976486206,\n",
       "  0.5897984504699707,\n",
       "  0.5804753303527832,\n",
       "  0.5705909729003906,\n",
       "  0.5622687935829163,\n",
       "  0.5534349083900452,\n",
       "  0.5451664328575134,\n",
       "  0.5373166799545288,\n",
       "  0.5295278429985046,\n",
       "  0.5219275951385498,\n",
       "  0.5146434903144836,\n",
       "  0.5074261426925659,\n",
       "  0.5007531642913818,\n",
       "  0.494003564119339,\n",
       "  0.48757946491241455,\n",
       "  0.4817080497741699,\n",
       "  0.47563838958740234,\n",
       "  0.46965256333351135,\n",
       "  0.4640498161315918,\n",
       "  0.4582883417606354,\n",
       "  0.4533497989177704,\n",
       "  0.4483744204044342,\n",
       "  0.44283610582351685,\n",
       "  0.43784821033477783,\n",
       "  0.43284207582473755,\n",
       "  0.428175687789917,\n",
       "  0.42337989807128906,\n",
       "  0.4190919101238251,\n",
       "  0.4146415889263153,\n",
       "  0.4101633131504059,\n",
       "  0.40594521164894104,\n",
       "  0.40185627341270447,\n",
       "  0.39787018299102783,\n",
       "  0.3938436210155487,\n",
       "  0.39053210616111755,\n",
       "  0.3862641751766205,\n",
       "  0.38323599100112915,\n",
       "  0.37929344177246094,\n",
       "  0.3764103651046753,\n",
       "  0.3725331723690033,\n",
       "  0.36965227127075195,\n",
       "  0.36621540784835815,\n",
       "  0.3633667826652527,\n",
       "  0.36036014556884766,\n",
       "  0.3574506342411041,\n",
       "  0.35401734709739685,\n",
       "  0.3513333797454834,\n",
       "  0.3483425974845886,\n",
       "  0.3455052673816681,\n",
       "  0.3425523638725281],\n",
       " 'accuracy': [0.1666666716337204,\n",
       "  0.17314815521240234,\n",
       "  0.20462962985038757,\n",
       "  0.24722221493721008,\n",
       "  0.31203705072402954,\n",
       "  0.35370370745658875,\n",
       "  0.3638888895511627,\n",
       "  0.38055557012557983,\n",
       "  0.39907407760620117,\n",
       "  0.41111111640930176,\n",
       "  0.43703705072402954,\n",
       "  0.46388888359069824,\n",
       "  0.47685185074806213,\n",
       "  0.4990740716457367,\n",
       "  0.5268518328666687,\n",
       "  0.5509259104728699,\n",
       "  0.5722222328186035,\n",
       "  0.5824074149131775,\n",
       "  0.5944444537162781,\n",
       "  0.6111111044883728,\n",
       "  0.6185185313224792,\n",
       "  0.6370370388031006,\n",
       "  0.645370364189148,\n",
       "  0.6564815044403076,\n",
       "  0.6703703999519348,\n",
       "  0.6740740537643433,\n",
       "  0.6777777671813965,\n",
       "  0.6898148059844971,\n",
       "  0.6972222328186035,\n",
       "  0.6981481313705444,\n",
       "  0.7129629850387573,\n",
       "  0.7166666388511658,\n",
       "  0.7222222089767456,\n",
       "  0.7277777791023254,\n",
       "  0.7268518805503845,\n",
       "  0.7324073910713196,\n",
       "  0.7472222447395325,\n",
       "  0.7527777552604675,\n",
       "  0.7583333253860474,\n",
       "  0.7657407522201538,\n",
       "  0.769444465637207,\n",
       "  0.7749999761581421,\n",
       "  0.7777777910232544,\n",
       "  0.7833333611488342,\n",
       "  0.7851851582527161,\n",
       "  0.7925925850868225,\n",
       "  0.7953703999519348,\n",
       "  0.8018518686294556,\n",
       "  0.8092592358589172,\n",
       "  0.8074073791503906,\n",
       "  0.8064814805984497,\n",
       "  0.8101851940155029,\n",
       "  0.8120370507240295,\n",
       "  0.8194444179534912,\n",
       "  0.8203703761100769,\n",
       "  0.824999988079071,\n",
       "  0.8296296000480652,\n",
       "  0.8342592716217041,\n",
       "  0.8379629850387573,\n",
       "  0.8435184955596924,\n",
       "  0.8481481671333313,\n",
       "  0.8481481671333313,\n",
       "  0.854629635810852,\n",
       "  0.8564814925193787,\n",
       "  0.8583333492279053,\n",
       "  0.8629629611968994,\n",
       "  0.8657407164573669,\n",
       "  0.8666666746139526,\n",
       "  0.8675925731658936,\n",
       "  0.8722222447395325,\n",
       "  0.8731481432914734,\n",
       "  0.8731481432914734,\n",
       "  0.8731481432914734,\n",
       "  0.8759258985519409,\n",
       "  0.8787037134170532,\n",
       "  0.8796296119689941,\n",
       "  0.8814814686775208,\n",
       "  0.8824074268341064,\n",
       "  0.8842592835426331,\n",
       "  0.885185182094574,\n",
       "  0.8879629373550415,\n",
       "  0.8888888955116272,\n",
       "  0.8888888955116272,\n",
       "  0.8898147940635681,\n",
       "  0.8916666507720947,\n",
       "  0.8925926089286804,\n",
       "  0.8925926089286804,\n",
       "  0.895370364189148,\n",
       "  0.895370364189148,\n",
       "  0.894444465637207,\n",
       "  0.8962963223457336,\n",
       "  0.8962963223457336,\n",
       "  0.8972222208976746,\n",
       "  0.8972222208976746,\n",
       "  0.8981481194496155,\n",
       "  0.8999999761581421,\n",
       "  0.8981481194496155,\n",
       "  0.8999999761581421,\n",
       "  0.9009259343147278,\n",
       "  0.9037036895751953],\n",
       " 'val_loss': [1.796044945716858,\n",
       "  1.788345456123352,\n",
       "  1.7833081483840942,\n",
       "  1.779533863067627,\n",
       "  1.7737749814987183,\n",
       "  1.7664159536361694,\n",
       "  1.7576810121536255,\n",
       "  1.7461129426956177,\n",
       "  1.7309494018554688,\n",
       "  1.712722659111023,\n",
       "  1.6875091791152954,\n",
       "  1.6532185077667236,\n",
       "  1.615268588066101,\n",
       "  1.570777416229248,\n",
       "  1.5265055894851685,\n",
       "  1.4771723747253418,\n",
       "  1.4287210702896118,\n",
       "  1.373134732246399,\n",
       "  1.3134922981262207,\n",
       "  1.2602406740188599,\n",
       "  1.2142369747161865,\n",
       "  1.1730835437774658,\n",
       "  1.13209068775177,\n",
       "  1.0910894870758057,\n",
       "  1.0541762113571167,\n",
       "  1.0227456092834473,\n",
       "  0.99222731590271,\n",
       "  0.9626457095146179,\n",
       "  0.9332929253578186,\n",
       "  0.9096128344535828,\n",
       "  0.8882904052734375,\n",
       "  0.8654618859291077,\n",
       "  0.8467300534248352,\n",
       "  0.8264757990837097,\n",
       "  0.8120432496070862,\n",
       "  0.7942059636116028,\n",
       "  0.7796371579170227,\n",
       "  0.7662094235420227,\n",
       "  0.7546917796134949,\n",
       "  0.7441715002059937,\n",
       "  0.732765257358551,\n",
       "  0.7218931913375854,\n",
       "  0.7131913900375366,\n",
       "  0.7045206427574158,\n",
       "  0.6962611079216003,\n",
       "  0.6884171962738037,\n",
       "  0.6807497143745422,\n",
       "  0.6737368106842041,\n",
       "  0.6675702333450317,\n",
       "  0.6619027853012085,\n",
       "  0.6558083891868591,\n",
       "  0.6496793031692505,\n",
       "  0.6429579257965088,\n",
       "  0.6384159922599792,\n",
       "  0.6325106024742126,\n",
       "  0.6277162432670593,\n",
       "  0.6230056881904602,\n",
       "  0.6182053685188293,\n",
       "  0.6143251657485962,\n",
       "  0.6101979613304138,\n",
       "  0.6051803827285767,\n",
       "  0.6020186543464661,\n",
       "  0.5973304510116577,\n",
       "  0.5940445065498352,\n",
       "  0.5917349457740784,\n",
       "  0.5880842804908752,\n",
       "  0.5843161344528198,\n",
       "  0.5818925499916077,\n",
       "  0.5783551931381226,\n",
       "  0.5767849087715149,\n",
       "  0.5741183161735535,\n",
       "  0.5693973302841187,\n",
       "  0.5671988129615784,\n",
       "  0.5642606616020203,\n",
       "  0.5631102323532104,\n",
       "  0.5597184300422668,\n",
       "  0.5582524538040161,\n",
       "  0.5544850826263428,\n",
       "  0.5525333285331726,\n",
       "  0.5500456690788269,\n",
       "  0.5474947094917297,\n",
       "  0.5460173487663269,\n",
       "  0.5433910489082336,\n",
       "  0.5427747368812561,\n",
       "  0.5391789078712463,\n",
       "  0.540063202381134,\n",
       "  0.5358630418777466,\n",
       "  0.5364107489585876,\n",
       "  0.532813549041748,\n",
       "  0.5333213210105896,\n",
       "  0.5308144688606262,\n",
       "  0.5299592614173889,\n",
       "  0.5279783606529236,\n",
       "  0.5276472568511963,\n",
       "  0.5250127911567688,\n",
       "  0.5251563787460327,\n",
       "  0.5229308009147644,\n",
       "  0.5216879844665527,\n",
       "  0.5208684802055359,\n",
       "  0.5186761617660522],\n",
       " 'val_accuracy': [0.1666666716337204,\n",
       "  0.18333333730697632,\n",
       "  0.25,\n",
       "  0.36666667461395264,\n",
       "  0.40833333134651184,\n",
       "  0.36666667461395264,\n",
       "  0.3916666805744171,\n",
       "  0.3916666805744171,\n",
       "  0.4166666567325592,\n",
       "  0.4166666567325592,\n",
       "  0.4416666626930237,\n",
       "  0.4583333432674408,\n",
       "  0.5249999761581421,\n",
       "  0.5083333253860474,\n",
       "  0.5333333611488342,\n",
       "  0.5416666865348816,\n",
       "  0.5666666626930237,\n",
       "  0.6333333253860474,\n",
       "  0.6166666746139526,\n",
       "  0.625,\n",
       "  0.6583333611488342,\n",
       "  0.625,\n",
       "  0.6333333253860474,\n",
       "  0.675000011920929,\n",
       "  0.6916666626930237,\n",
       "  0.6833333373069763,\n",
       "  0.6833333373069763,\n",
       "  0.6916666626930237,\n",
       "  0.7250000238418579,\n",
       "  0.7333333492279053,\n",
       "  0.7250000238418579,\n",
       "  0.7666666507720947,\n",
       "  0.7666666507720947,\n",
       "  0.7749999761581421,\n",
       "  0.7833333611488342,\n",
       "  0.7833333611488342,\n",
       "  0.7833333611488342,\n",
       "  0.7749999761581421,\n",
       "  0.7916666865348816,\n",
       "  0.7833333611488342,\n",
       "  0.7833333611488342,\n",
       "  0.7749999761581421,\n",
       "  0.7833333611488342,\n",
       "  0.7833333611488342,\n",
       "  0.7833333611488342,\n",
       "  0.7916666865348816,\n",
       "  0.800000011920929,\n",
       "  0.8083333373069763,\n",
       "  0.8166666626930237,\n",
       "  0.8166666626930237,\n",
       "  0.8166666626930237,\n",
       "  0.8083333373069763,\n",
       "  0.8166666626930237,\n",
       "  0.8083333373069763,\n",
       "  0.8166666626930237,\n",
       "  0.8083333373069763,\n",
       "  0.824999988079071,\n",
       "  0.8166666626930237,\n",
       "  0.8166666626930237,\n",
       "  0.824999988079071,\n",
       "  0.8166666626930237,\n",
       "  0.8166666626930237,\n",
       "  0.824999988079071,\n",
       "  0.8166666626930237,\n",
       "  0.8166666626930237,\n",
       "  0.8083333373069763,\n",
       "  0.800000011920929,\n",
       "  0.800000011920929,\n",
       "  0.800000011920929,\n",
       "  0.800000011920929,\n",
       "  0.8083333373069763,\n",
       "  0.800000011920929,\n",
       "  0.8083333373069763,\n",
       "  0.8083333373069763,\n",
       "  0.8083333373069763,\n",
       "  0.8083333373069763,\n",
       "  0.8083333373069763,\n",
       "  0.8166666626930237,\n",
       "  0.8166666626930237,\n",
       "  0.8166666626930237,\n",
       "  0.8083333373069763,\n",
       "  0.8083333373069763,\n",
       "  0.8083333373069763,\n",
       "  0.8083333373069763,\n",
       "  0.8166666626930237,\n",
       "  0.8083333373069763,\n",
       "  0.8083333373069763,\n",
       "  0.8166666626930237,\n",
       "  0.8083333373069763,\n",
       "  0.8166666626930237,\n",
       "  0.8083333373069763,\n",
       "  0.8166666626930237,\n",
       "  0.8083333373069763,\n",
       "  0.8166666626930237,\n",
       "  0.8166666626930237,\n",
       "  0.8166666626930237,\n",
       "  0.8166666626930237,\n",
       "  0.8166666626930237,\n",
       "  0.8166666626930237,\n",
       "  0.8166666626930237]}"
      ]
     },
     "execution_count": 44,
     "metadata": {},
     "output_type": "execute_result"
    }
   ],
   "source": [
    "history.history"
   ]
  },
  {
   "cell_type": "markdown",
   "metadata": {},
   "source": [
    "Now visualize the loss over time using `history.history`: "
   ]
  },
  {
   "cell_type": "code",
   "execution_count": 45,
   "metadata": {},
   "outputs": [
    {
     "data": {
      "text/plain": [
       "[Text(0, 0.5, 'Accuracy'), Text(0.5, 0, 'Epoch')]"
      ]
     },
     "execution_count": 45,
     "metadata": {},
     "output_type": "execute_result"
    },
    {
     "data": {
      "image/png": "[encoded data removed]",
      "text/plain": [
       "<Figure size 864x576 with 1 Axes>"
      ]
     },
     "metadata": {
      "needs_background": "light"
     },
     "output_type": "display_data"
    },
    {
     "data": {
      "image/png": "[encoded data removed]",
      "text/plain": [
       "<Figure size 864x576 with 1 Axes>"
      ]
     },
     "metadata": {
      "needs_background": "light"
     },
     "output_type": "display_data"
    }
   ],
   "source": [
    "# The history.history[\"loss\"] entry is a dictionary with as many values as epochs that the\n",
    "# model was trained on. \n",
    "df_loss_acc = pd.DataFrame(history.history)\n",
    "df_loss= df_loss_acc[['loss','val_loss']]\n",
    "df_loss.rename(columns={'loss':'train','val_loss':'validation'},inplace=True)\n",
    "df_acc= df_loss_acc[['accuracy','val_accuracy']]\n",
    "df_acc.rename(columns={'accuracy':'train','val_accuracy':'validation'},inplace=True)\n",
    "df_loss.plot(title='Model loss',figsize=(12,8)).set(xlabel='Epoch',ylabel='Loss')\n",
    "df_acc.plot(title='Model Accuracy',figsize=(12,8)).set(xlabel='Epoch',ylabel='Accuracy')"
   ]
  },
  {
   "cell_type": "markdown",
   "metadata": {},
   "source": [
    "**Congratulations**! You've finished the assignment and built two models: One that recognizes  smiles, and another that recognizes SIGN language with almost 80% accuracy on the test set. In addition to that, you now also understand the applications of two Keras APIs: Sequential and Functional. Nicely done! \n",
    "\n",
    "By now, you know a bit about how the Functional API works and may have glimpsed the possibilities. In your next assignment, you'll really get a feel for its power when you get the opportunity to build a very deep ConvNet, using ResNets! "
   ]
  },
  {
   "cell_type": "markdown",
   "metadata": {},
   "source": [
    "<a name='6'></a>\n",
    "## 6 - Bibliography\n",
    "\n",
    "You're always encouraged to read the official documentation. To that end, you can find the docs for the Sequential and Functional APIs here: \n",
    "\n",
    "https://www.tensorflow.org/guide/keras/sequential_model\n",
    "\n",
    "https://www.tensorflow.org/guide/keras/functional"
   ]
  }
 ],
 "metadata": {
  "coursera": {
   "course_slug": "convolutional-neural-networks",
   "graded_item_id": "bwbJV",
   "launcher_item_id": "0TkXB"
  },
  "kernelspec": {
   "display_name": "Python 3",
   "language": "python",
   "name": "python3"
  },
  "language_info": {
   "codemirror_mode": {
    "name": "ipython",
    "version": 3
   },
   "file_extension": ".py",
   "mimetype": "text/x-python",
   "name": "python",
   "nbconvert_exporter": "python",
   "pygments_lexer": "ipython3",
   "version": "3.7.6"
  }
 },
 "nbformat": 4,
 "nbformat_minor": 2
}
